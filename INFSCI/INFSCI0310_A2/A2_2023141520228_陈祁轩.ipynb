{
 "cells": [
  {
   "cell_type": "markdown",
   "metadata": {},
   "source": [
    "# INFSCI0310 Computation in Information Science\n",
    "# Department of Computer Science, SCUPI"
   ]
  },
  {
   "cell_type": "markdown",
   "metadata": {},
   "source": [
    "# Assignment 2: Stochastic Thinking, Simulation and Sampling\n",
    "# Due on: Wednesday, November 27th, 23:59 pm"
   ]
  },
  {
   "cell_type": "markdown",
   "metadata": {},
   "source": [
    "Welcome to assignment 2, where we will explore more about stochastic process and simulation. <br>\n",
    "\n",
    "\n",
    "# Data files for this assignment\n",
    "In order to get hand on the assignment, you have to download the data files and allocate them into the correct directory as follows:\n",
    "\n",
    "```\n",
    "├── [your working directory]\n",
    "   ├── united_summer2015.csv\n",
    "```\n",
    "\n",
    "**Please make sure to use the correct path to these files when working on your own machine. Recall that the jupyter *.ipynb file (this assignment file) should be in your working directory.**"
   ]
  },
  {
   "cell_type": "markdown",
   "metadata": {},
   "source": [
    "# 1. Deterministic or Stochastic\n",
    "\n",
    "The definitions of **deterministic process** and **stochastic process** are presented as follows:\n",
    "\n",
    "A **deterministic process** is a process *whose behavior is entirely predictable. Each state is uniquely determined by parameters in the process and by previous states of its variables.* This means the process will *perform the same way given a particular set of initial conditions, allowing precise prediction of future states.*\n",
    "\n",
    "A **stochastic process** is a process in which *randomness is present, meaning that variable states are represented by probability distributions rather than unique values.* The behavior of this process *cannot be fully predicted, as each state is influenced by probabilistic factors, leading to variability in outcomes.*"
   ]
  },
  {
   "cell_type": "markdown",
   "metadata": {},
   "source": [
    "For example, run the following python code, in multiple times, what can you observe from the results?"
   ]
  },
  {
   "cell_type": "code",
   "execution_count": 1,
   "metadata": {},
   "outputs": [
    {
     "name": "stdout",
     "output_type": "stream",
     "text": [
      "a: 3\n",
      "a: 3\n",
      "a: 9\n",
      "a: 6\n",
      "a: 4\n",
      "a: 7\n",
      "a: 3\n",
      "a: 8\n",
      "a: 6\n",
      "a: 10\n"
     ]
    }
   ],
   "source": [
    "import random\n",
    "for i in range(0, 10):\n",
    "    a = random.randint(0,10)\n",
    "    print(\"a: \" + str(a))"
   ]
  },
  {
   "cell_type": "markdown",
   "metadata": {},
   "source": [
    "Modify the code by adding a new line of *random.seed(0)*, now run the code in multiple times, what can you observe from the results?"
   ]
  },
  {
   "cell_type": "code",
   "execution_count": 2,
   "metadata": {},
   "outputs": [
    {
     "name": "stdout",
     "output_type": "stream",
     "text": [
      "a: 6\n",
      "a: 6\n",
      "a: 0\n",
      "a: 4\n",
      "a: 8\n",
      "a: 7\n",
      "a: 6\n",
      "a: 4\n",
      "a: 7\n",
      "a: 5\n"
     ]
    }
   ],
   "source": [
    "import random\n",
    "random.seed(0)\n",
    "for i in range(0, 10):\n",
    "    a = random.randint(0,10)\n",
    "    print(\"a: \" + str(a))"
   ]
  },
  {
   "cell_type": "markdown",
   "metadata": {},
   "source": [
    "In the previous example, *random.seed(x)* initialize the random generator using the seed *x* (i.e., a constant), the random generator will be set as a deterministic system, i.e., it will output the same samples . <br>\n",
    "\n",
    "Such a tenique is very useful for reproduction purposes, where you will produce relative consistent results across running the system in multiple times, it also benefits the general public to repeat your experiments and validate the results that you claimed in your report. <br>\n",
    "\n",
    "Many computational libraries in Python also provide *seed(x)* functions, e.g., *numpy.random.seed(x)* in *Numpy*, *torch.seed(x)* in *PyTorch*."
   ]
  },
  {
   "cell_type": "markdown",
   "metadata": {},
   "source": [
    "## <font color='red'>Exercise 1 (20 marks) </font>\n",
    "In Exercise 1, you need to use *random.seed(x)* and *random.randint(a,b)* to code the following tasks, and print out the results: <br>\n",
    "1. Deterministically generate and return 5 even number between 9 and 21. <br>\n",
    "2. Then shuffle the deterministical generator to a stochastic generator, and return 5 even number between 9 and 21."
   ]
  },
  {
   "cell_type": "code",
   "execution_count": null,
   "metadata": {},
   "outputs": [
    {
     "name": "stdout",
     "output_type": "stream",
     "text": [
      "[16, 14, 18, 12, 10]\n",
      "[18, 20, 10, 14, 16]\n"
     ]
    }
   ],
   "source": [
    "import random\n",
    "\n",
    "def gen(deterministic=True):\n",
    "    if deterministic:\n",
    "        random.seed(0)  \n",
    "    evens = []\n",
    "    while len(evens) < 5:\n",
    "        num = random.randint(9, 21)\n",
    "        if num % 2 == 0 and num not in evens:  \n",
    "            evens.append(num)\n",
    "    return evens\n",
    "\n",
    "det = gen(deterministic=True)\n",
    "print(det)\n",
    "\n",
    "sto = gen(deterministic=False)\n",
    "print(sto)\n"
   ]
  },
  {
   "attachments": {},
   "cell_type": "markdown",
   "metadata": {},
   "source": [
    "# 2. Monte Carlo Simulation\n",
    "\n",
    "Monte Carlo simulation refers to simulation processes that use random sampling to estimate statistical properties or outcomes in complex systems."
   ]
  },
  {
   "cell_type": "markdown",
   "metadata": {},
   "source": [
    "## <font color='red'>Exercise 2 (30 marks) </font>\n",
    "In Exercise 2, you need to code a monte carlo simulation system and answer several questions, more specifically: <br>\n",
    "\n",
    "You have a bucket with 5 red balls and 5 green balls. Now you will draw 5 balls from the bucket, assume that each time you draw a ball out of the bucket without putting it back to the bucket, i.e., non-repetitive drawing:\n",
    "\n",
    "1. Set *random.seed(1)* and respectively perform the simulation (draw 5 balls) 10, 100, 1000, 10000, 100000 times, and print the fraction values of \"getting 5 balls with the same color\" when you perform the simulation 1, 10, 100, 1000, 10000, 100000 times, respectively.\n",
    "2. Compare each fraction value with the probability of getting 5 balls with the same color (calculated mathematically on your own), what can you find?"
   ]
  },
  {
   "cell_type": "code",
   "execution_count": 21,
   "metadata": {},
   "outputs": [
    {
     "name": "stdout",
     "output_type": "stream",
     "text": [
      "{10: 0.2, 100: 0.02, 1000: 0.008, 10000: 0.0082, 100000: 0.00812}\n"
     ]
    }
   ],
   "source": [
    "def simulate_ball_draws(trials):\n",
    "    random.seed(1)  \n",
    "    count = 0\n",
    "    for _ in range(trials):\n",
    "        balls = ['R'] * 5 + ['G'] * 5\n",
    "        random.shuffle(balls)  \n",
    "        res = balls[:5]\n",
    "        if len(set(res)) == 1:\n",
    "            count += 1\n",
    "    return count / trials\n",
    "\n",
    "trials_list = [10, 100, 1000, 10000, 100000]\n",
    "results = {trials: simulate_ball_draws(trials) for trials in trials_list}\n",
    "print(results)\n"
   ]
  },
  {
   "cell_type": "markdown",
   "metadata": {},
   "source": [
    "**Answer for Q2**: <br>As the sample size increases, the fraction value gets closer to the accurate probability."
   ]
  },
  {
   "cell_type": "markdown",
   "metadata": {},
   "source": [
    "# 3. The Central Limit Theorem\n",
    "**The Central Limit Theorem says that:** <br>\n",
    "*1. The probability distribution of the sum or average of enough number of random samples drawn with replacement will be normally distributed.* <br>\n",
    "*2. The mean of such normal distribution will be very close to the population mean, regardless of how the population distribution looks like.* <br>\n",
    "\n",
    "The saying: *\"regardless of how the population distribution looks like\"* fits our need, because in data science we are often blind with the population distribution.\n",
    "\n",
    "The Central Limit Theorem makes it possible to make inferences with very little knowledge about the population, provided we have a enough random samples.\n",
    "\n",
    "Next, we will demostrate the Central Limit Theorem via a experiment:"
   ]
  },
  {
   "cell_type": "markdown",
   "metadata": {},
   "source": [
    "The excel file *united_summer2015.csv* contains data regarding the departure delays of 13,825 United Airlines domestic flights out of San Francisco airport in the summer of 2015. We use *pandas* to read the excel file as a dataframe, and print a view of the dataframe:"
   ]
  },
  {
   "cell_type": "code",
   "execution_count": 5,
   "metadata": {},
   "outputs": [
    {
     "name": "stdout",
     "output_type": "stream",
     "text": [
      "          Date  Flight Number Destination  Delay\n",
      "0       6/1/15             73         HNL    257\n",
      "1       6/1/15            217         EWR     28\n",
      "2       6/1/15            237         STL     -3\n",
      "3       6/1/15            250         SAN      0\n",
      "4       6/1/15            267         PHL     64\n",
      "...        ...            ...         ...    ...\n",
      "13820  8/31/15           1978         LAS     -4\n",
      "13821  8/31/15           1993         IAD      8\n",
      "13822  8/31/15           1994         ORD      3\n",
      "13823  8/31/15           2000         PHX     -1\n",
      "13824  8/31/15           2013         EWR     -2\n",
      "\n",
      "[13825 rows x 4 columns]\n"
     ]
    }
   ],
   "source": [
    "import pandas as pd\n",
    "united = pd.read_csv('./united_summer2015.csv', header=0)\n",
    "print(united)"
   ]
  },
  {
   "cell_type": "markdown",
   "metadata": {},
   "source": [
    "Next, we focus on the Delay data (in minutes), regard all the Delay data in the dataframe as our population, and try to use random sampling to generate a very basic understanding of the whole population.\n",
    "\n",
    "First, we plot the distribution of the Delay data in the dataframe via *pandas.DataFrame.hist()* method, i.e., using a histogram. <br>\n",
    "**Note** that this is usually infeasible in real-case, as the size of the whole population is often too large to provide such a distribution visualization."
   ]
  },
  {
   "cell_type": "code",
   "execution_count": 6,
   "metadata": {},
   "outputs": [
    {
     "data": {
      "text/plain": [
       "Text(0, 0.5, 'Count')"
      ]
     },
     "execution_count": 6,
     "metadata": {},
     "output_type": "execute_result"
    },
    {
     "data": {
      "image/png": "[encoded data removed]",
      "text/plain": [
       "<Figure size 640x480 with 1 Axes>"
      ]
     },
     "metadata": {},
     "output_type": "display_data"
    }
   ],
   "source": [
    "import matplotlib.pyplot as plt\n",
    "import numpy as np\n",
    "united['Delay'].hist(bins=np.arange(united['Delay'].min(), 300, 10))\n",
    "plt.xlabel('Delay (mins)') \n",
    "plt.ylabel('Count') "
   ]
  },
  {
   "cell_type": "markdown",
   "metadata": {},
   "source": [
    "As we can see from the histogram, the distribution of delays has a long right-hand tail. Let's find out the mean and standard deviation of this distribution:"
   ]
  },
  {
   "cell_type": "code",
   "execution_count": 7,
   "metadata": {},
   "outputs": [
    {
     "name": "stdout",
     "output_type": "stream",
     "text": [
      "16.658155515370705 39.48162778440366\n"
     ]
    }
   ],
   "source": [
    "mean = united['Delay'].mean()\n",
    "std = united['Delay'].std()\n",
    "print(mean, std)"
   ]
  },
  {
   "cell_type": "markdown",
   "metadata": {},
   "source": [
    "So the mean is around 16.6, standard deviation is around 39.5 <br>\n",
    "These numbers will be our ground truth to compare with.\n",
    "\n",
    "Next, we assume that accessing the whole population (all 13824 Delay data) is not possible, if we want to understand the population, we have to randomly sample a subset and hopefully these samples can reflect the characteristics of the whole population, then analyze the samples in our subset."
   ]
  },
  {
   "cell_type": "markdown",
   "metadata": {},
   "source": [
    "Let's sample 400 Delay data from the population, and calculate the mean and standard deviation:"
   ]
  },
  {
   "cell_type": "code",
   "execution_count": 8,
   "metadata": {},
   "outputs": [
    {
     "name": "stdout",
     "output_type": "stream",
     "text": [
      "16.635 37.90102894365097\n"
     ]
    }
   ],
   "source": [
    "delay_400 = united['Delay'].sample(400)\n",
    "print(delay_400.mean(), delay_400.std())"
   ]
  },
  {
   "cell_type": "markdown",
   "metadata": {},
   "source": [
    "As you can see we did NOT fix the seed here, so the process is stochastic. <br>\n",
    "Feel free to run this multiple times, where the results should vary. How often can you get the subset's mean and standard deviation as close as the population's ground truth (16.6, 39.5)?"
   ]
  },
  {
   "cell_type": "markdown",
   "metadata": {},
   "source": [
    "## <font color='red'>Exercise 3 (50 marks)</font>\n",
    "\n",
    "Previously, you run the random sampling multiple times and produce measurements to compare with population's ground truth statistics.\n",
    "That is exactly the **Central Limit Theorem** tells us to do: <br>\n",
    "*- As long as we randomly sample enough data from the population, and perform such sampling experiments in multiple times.* <br>\n",
    "*- We can demonstrate the population mean from the distribution of sample mean values, formed by calculating mean values from all these sampling experiments.*\n",
    "\n",
    "Following the instructions from the **Central Limit Theorem**, please complete the following tasks: <br>\n",
    "1. Use the code we have written down for the experiment of sampling 400 Delay data, perform such experiment 10000 times <br>\n",
    "2. Plot the distribution of sample mean values using a histogram, where each bin account for 0.5 value range <br>\n",
    "3. Fix the experiment number 10000, while change the sample number from 400 to 1000, then plot the distribution histogram again <br>\n",
    "4. Answer two questions: What can you find from the first histogram? What can you find by comparing between these two histograms? <br>\n",
    "<font color=\"red\">Please use Markdown cells to structure your text.</font>"
   ]
  },
  {
   "cell_type": "code",
   "execution_count": 29,
   "metadata": {},
   "outputs": [
    {
     "data": {
      "image/png": "[encoded data removed]",
      "text/plain": [
       "<Figure size 640x480 with 1 Axes>"
      ]
     },
     "metadata": {},
     "output_type": "display_data"
    },
    {
     "data": {
      "image/png": "[encoded data removed]",
      "text/plain": [
       "<Figure size 640x480 with 1 Axes>"
      ]
     },
     "metadata": {},
     "output_type": "display_data"
    }
   ],
   "source": [
    "import pandas as pd\n",
    "import numpy as np\n",
    "import matplotlib.pyplot as plt\n",
    "\n",
    "united = pd.read_csv('./united_summer2015.csv', header=0)\n",
    "\n",
    "def mean(data, size, times):\n",
    "    means = []\n",
    "    for _ in range(times):\n",
    "        sample = data.sample(size)\n",
    "        means.append(sample.mean())\n",
    "    return means\n",
    "\n",
    "sizes = [400, 1000]\n",
    "times = 10000\n",
    "\n",
    "for size in sizes:\n",
    "    means = mean(united['Delay'], size, times)\n",
    "    plt.hist(means, bins=np.arange(min(means), max(means), 0.5), label=f'Sample Size={size}')\n",
    "    plt.title(f'Histogram of Sample Means (Sample Size={size})')\n",
    "    plt.xlabel('Sample Mean')\n",
    "    plt.ylabel('Count')\n",
    "    plt.legend()\n",
    "    plt.show()\n"
   ]
  },
  {
   "cell_type": "markdown",
   "metadata": {},
   "source": [
    "**Answer 1**\n",
    "<br>\n",
    "① The first histogram shows a distribution that is approximately normal.<br> \n",
    "② The distribution of sample means shows characteristics of a normal distribution due to the Central Limit Theorem.<br> \n",
    "③ The mean of the sample means is close to the population mean. The distribution of sample means is fairly concentrated.<br>\n",
    "\n",
    "**Answer 2**\n",
    "<br>\n",
    "① Both histograms show distributions that are approximately normal. This further validates the Central Limit Theorem, which states that the distribution of sample means will approach a normal distribution as the sample size increases, regardless of the shape of the population distribution.<br>\n",
    "② The centers of both distributions are very close to the population mean. This indicates that the sample means are good estimators of the population mean, regardless of the sample size.<br>\n",
    "③ The histogram for the sample size of 1000 is more concentrated than the histogram for the sample size of 400, with a smaller standard deviation. This suggests that increasing the sample size reduces the variability in the sample means, making them more stable and closer to the population mean. Larger sample sizes reduce the impact of random error, leading to more reliable estimates."
   ]
  },
  {
   "cell_type": "markdown",
   "metadata": {},
   "source": [
    "## <font color='blue'>Submission</font>\n",
    "\n",
    "You only need to submit the jupyter file in **ipynb** format, rename it as: A2_YOURID_YOURNAME (For instance: A2_2023141520000_Sofia) <br>"
   ]
  }
 ],
 "metadata": {
  "kernelspec": {
   "display_name": "Python 3",
   "language": "python",
   "name": "python3"
  },
  "language_info": {
   "codemirror_mode": {
    "name": "ipython",
    "version": 3
   },
   "file_extension": ".py",
   "mimetype": "text/x-python",
   "name": "python",
   "nbconvert_exporter": "python",
   "pygments_lexer": "ipython3",
   "version": "3.11.0"
  }
 },
 "nbformat": 4,
 "nbformat_minor": 4
}
